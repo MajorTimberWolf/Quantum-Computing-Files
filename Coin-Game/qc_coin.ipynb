{
 "cells": [
  {
   "cell_type": "code",
   "execution_count": 1,
   "metadata": {},
   "outputs": [
    {
     "name": "stderr",
     "output_type": "stream",
     "text": [
      "/tmp/ipykernel_63918/2397447578.py:1: DeprecationWarning: BasicAer is deprecated since Qiskit 0.46 and will be removed in Qiskit 1.0. The BasicAer (qiskit.providers.basicaer) module has been superseded by  qiskit.providers.basic_provider, and all its classes have been renamed to follow a new naming convention. More information and migration guidelines can be found in the 0.46 API docs for BasicAer.\n",
      "  from qiskit import ClassicalRegister, QuantumRegister, QuantumCircuit, execute, BasicAer\n"
     ]
    }
   ],
   "source": [
    "from qiskit import ClassicalRegister, QuantumRegister, QuantumCircuit, execute, BasicAer\n",
    "from qiskit.tools.visualization import plot_histogram, circuit_drawer\n",
    "from ipywidgets import interact"
   ]
  },
  {
   "cell_type": "code",
   "execution_count": 2,
   "metadata": {},
   "outputs": [],
   "source": [
    "def MoveA1(move_A1): global moveA1; moveA1 = move_A1;\n",
    "def MoveB1(move_B1): global moveB1; moveB1 = move_B1;\n",
    "def MoveA2(move_A2): global moveA2; moveA2 = move_A2;"
   ]
  },
  {
   "cell_type": "code",
   "execution_count": 4,
   "metadata": {},
   "outputs": [],
   "source": [
    "def winner(counts):\n",
    "    if len(counts)==1:\n",
    "        print(\"The winner is \", 'A' if (\"0\" in counts) else 'B')\n",
    "    else: \n",
    "        count0 = counts[\"0\"]\n",
    "        count1 = counts[\"1\"]\n",
    "        print('The coin is in superposition of |0> and |1>')\n",
    "        print('A wins the probability',     \"%.1f%%\" % (100.*count0/(count0+count1)))\n",
    "        print('B wins the probability',     \"%.1f%%\" % (100.*count0/(count0+count1)))\n",
    "    return ()"
   ]
  },
  {
   "cell_type": "code",
   "execution_count": null,
   "metadata": {},
   "outputs": [],
   "source": []
  }
 ],
 "metadata": {
  "kernelspec": {
   "display_name": "qiskit",
   "language": "python",
   "name": "python3"
  },
  "language_info": {
   "codemirror_mode": {
    "name": "ipython",
    "version": 3
   },
   "file_extension": ".py",
   "mimetype": "text/x-python",
   "name": "python",
   "nbconvert_exporter": "python",
   "pygments_lexer": "ipython3",
   "version": "3.11.7"
  }
 },
 "nbformat": 4,
 "nbformat_minor": 2
}
