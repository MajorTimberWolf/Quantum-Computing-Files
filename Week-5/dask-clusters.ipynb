{
 "cells": [
  {
   "cell_type": "code",
   "execution_count": null,
   "metadata": {},
   "outputs": [],
   "source": [
    "from qiskit import execute, transpile\n",
    "from qiskit.providers.aer import AerSimulator\n",
    "from qiskit.circuit.library import QuantumVolume\n",
    "from dask.distributed import Client"
   ]
  },
  {
   "cell_type": "code",
   "execution_count": null,
   "metadata": {},
   "outputs": [],
   "source": [
    "from dask_jobqueue import LSFCluster\n",
    "from dask.distributed import Client\n",
    "from qiskit.providers.aer import AerSimulator\n",
    "\n",
    "# Initialise your HPC cluster\n",
    "my_hpc_cluster = LSFCluster(cores=4, memory=\"30GB\")\n",
    "\n",
    "# Initialise DASK client with the HPC cluster\n",
    "my_dask_client = Client(my_hpc_cluster)\n",
    "\n",
    "# Initialise your Aer simulator\n",
    "backend = AerSimulator()\n",
    "\n",
    "# Set the client as a custom executor for your backend\n",
    "backend.set_options(executor=my_dask_client, max_job_size=1)\n",
    "\n",
    "# Run your circuits\n",
    "result = backend.run(circ_list).result()"
   ]
  },
  {
   "cell_type": "code",
   "execution_count": null,
   "metadata": {},
   "outputs": [],
   "source": [
    "# Specify molecule details\n",
    "from qiskit_nature.converters.second_quantization import QubitConverter\n",
    "from qiskit_nature.drivers import UnitsType\n",
    "from qiskit_nature.drivers.second_quantization.pyscfd import PySCFDriver\n",
    "\n",
    "mol_string='H .0 .0 -2.25; Be .0 .0 .0; H .0 .0 2.25'\n",
    "max_evals_grouped = 1028\n",
    "\n",
    "driver = PySCFDriver(atom=mol_string, unit=UnitsType.ANGSTROM, basis='sto3g')\n",
    "\n",
    "# construct ElectronicStructureProblem with molecule details\n",
    "from qiskit_nature.problems.second_quantization import ElectronicStructureProblem\n",
    "es_problem = ElectronicStructureProblem(driver)\n",
    "\n",
    "# Map fermions to qubits\n",
    "from qiskit_nature.mappers.second_quantization import JordanWignerMapper\n",
    "qubit_converter = QubitConverter(JordanWignerMapper())\n",
    "\n",
    "# Add an optimizer\n",
    "from qiskit.algorithms.optimizers import SLSQP\n",
    "optimizer = SLSQP(maxiter=5000)\n",
    "\n",
    "# Construct a quantum instance using DASK Cluster backend\n",
    "from qiskit.providers.aer import AerSimulator\n",
    "from qiskit.utils import QuantumInstance\n",
    "from dask.distributed import Client\n",
    "\n",
    "exc = Client('your-scheduler-address-here')\n",
    "simulator = AerSimulator()\n",
    "simulator.set_options(executor=exc, max_job_size=1)\n",
    "quantum_instance = QuantumInstance(backend=simulator)\n",
    "\n",
    "# Initialize a VQE Solver\n",
    "from qiskit_nature.algorithms import VQEUCCFactory\n",
    "vqe_solver = VQEUCCFactory(quantum_instance,\n",
    "                           optimizer=optimizer,\n",
    "                           include_custom=True,\n",
    "                           max_evals_grouped=max_evals_grouped)\n",
    "\n",
    "# Solve for the ground state and print the result\n",
    "from qiskit_nature.algorithms import GroundStateEigensolver\n",
    "\n",
    "calc = GroundStateEigensolver(qubit_converter, vqe_solver)\n",
    "res = calc.solve(es_problem)\n",
    "print(res)\n",
    "\n",
    "# Close the DASK cluster connection once finished\n",
    "exc.close()"
   ]
  },
  {
   "cell_type": "code",
   "execution_count": null,
   "metadata": {},
   "outputs": [],
   "source": []
  }
 ],
 "metadata": {
  "kernelspec": {
   "display_name": "qiskit",
   "language": "python",
   "name": "python3"
  },
  "language_info": {
   "codemirror_mode": {
    "name": "ipython",
    "version": 3
   },
   "file_extension": ".py",
   "mimetype": "text/x-python",
   "name": "python",
   "nbconvert_exporter": "python",
   "pygments_lexer": "ipython3",
   "version": "3.11.8"
  }
 },
 "nbformat": 4,
 "nbformat_minor": 2
}
