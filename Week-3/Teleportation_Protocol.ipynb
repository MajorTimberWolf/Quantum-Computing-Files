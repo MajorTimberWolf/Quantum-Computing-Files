{
 "cells": [
  {
   "cell_type": "code",
   "execution_count": 12,
   "metadata": {},
   "outputs": [
    {
     "data": {
      "text/html": [
       "<pre style=\"word-wrap: normal;white-space: pre;background: #fff0;line-height: 1.1;font-family: &quot;Courier New&quot;,Courier,monospace\">              ░      ┌───┐ ░    ┌─┐ ░                         \n",
       "Q: ───────────░───■──┤ H ├─░────┤M├─░─────────────────────────\n",
       "   ┌───┐      ░ ┌─┴─┐└───┘ ░ ┌─┐└╥┘ ░                         \n",
       "A: ┤ H ├──■───░─┤ X ├──────░─┤M├─╫──░─────────────────────────\n",
       "   └───┘┌─┴─┐ ░ └───┘      ░ └╥┘ ║  ░ ┌──────────┐┌──────────┐\n",
       "B: ─────┤ X ├─░────────────░──╫──╫──░─┤0         ├┤0         ├\n",
       "        └───┘ ░            ░  ║  ║  ░ │  If_else ││          │\n",
       "a: ═══════════════════════════╩══╬════╡0         ╞╡          ╞\n",
       "                                 ║    └──────────┘│          │\n",
       "b: ══════════════════════════════╩════════════════╡0         ╞\n",
       "                                                  └──────────┘</pre>"
      ],
      "text/plain": [
       "              ░      ┌───┐ ░    ┌─┐ ░                         \n",
       "Q: ───────────░───■──┤ H ├─░────┤M├─░─────────────────────────\n",
       "   ┌───┐      ░ ┌─┴─┐└───┘ ░ ┌─┐└╥┘ ░                         \n",
       "A: ┤ H ├──■───░─┤ X ├──────░─┤M├─╫──░─────────────────────────\n",
       "   └───┘┌─┴─┐ ░ └───┘      ░ └╥┘ ║  ░ ┌──────────┐┌──────────┐\n",
       "B: ─────┤ X ├─░────────────░──╫──╫──░─┤0         ├┤0         ├\n",
       "        └───┘ ░            ░  ║  ║  ░ │  If_else ││          │\n",
       "a: ═══════════════════════════╩══╬════╡0         ╞╡          ╞\n",
       "                                 ║    └──────────┘│          │\n",
       "b: ══════════════════════════════╩════════════════╡0         ╞\n",
       "                                                  └──────────┘"
      ]
     },
     "execution_count": 12,
     "metadata": {},
     "output_type": "execute_result"
    }
   ],
   "source": [
    "from qiskit import QuantumCircuit, QuantumRegister, ClassicalRegister\n",
    "\n",
    "qubit = QuantumRegister(1, \"Q\")\n",
    "ebit0 = QuantumRegister(1, \"A\")\n",
    "ebit1 = QuantumRegister(1, \"B\")\n",
    "a = ClassicalRegister(1, \"a\")\n",
    "b = ClassicalRegister(1, \"b\")\n",
    "\n",
    "protocol = QuantumCircuit(qubit, ebit0, ebit1, a, b)\n",
    "\n",
    "# Prepare ebit used for teleportation\n",
    "protocol.h(ebit0)\n",
    "protocol.cx(ebit0, ebit1)\n",
    "protocol.barrier()\n",
    "\n",
    "# Alice's operations\n",
    "protocol.cx(qubit, ebit0)\n",
    "protocol.h(qubit)\n",
    "protocol.barrier()\n",
    "\n",
    "# Alice measures and sends classical bits to Bob\n",
    "protocol.measure(ebit0, a)\n",
    "protocol.measure(qubit, b)\n",
    "protocol.barrier()\n",
    "\n",
    "# Bob uses the classical bits to conditionally apply gates\n",
    "with protocol.if_test((a, 1)):\n",
    "    protocol.x(ebit1)\n",
    "with protocol.if_test((b, 1)):\n",
    "    protocol.z(ebit1)\n",
    "\n",
    "protocol.draw()"
   ]
  },
  {
   "cell_type": "code",
   "execution_count": 13,
   "metadata": {},
   "outputs": [
    {
     "data": {
      "text/plain": [
       "array([[-0.24093981+0.j        ,  0.89064343+0.38561936j],\n",
       "       [ 0.07756824-0.96743536j,  0.11309639-0.21274679j]])"
      ]
     },
     "metadata": {},
     "output_type": "display_data"
    }
   ],
   "source": [
    "from qiskit.circuit.library import UGate\n",
    "from numpy import pi, random\n",
    "\n",
    "random_gate = UGate(\n",
    "    theta = random.random()*2*pi,\n",
    "    phi  = random.random()*2*pi,\n",
    "    lam = random.random()*2*pi\n",
    ")\n",
    "\n",
    "display(random_gate.to_matrix())"
   ]
  },
  {
   "cell_type": "code",
   "execution_count": 14,
   "metadata": {},
   "outputs": [
    {
     "data": {
      "text/html": [
       "<pre style=\"word-wrap: normal;white-space: pre;background: #fff0;line-height: 1.1;font-family: &quot;Courier New&quot;,Courier,monospace\">        ┌─────────────────────────┐ ░            ░      ┌───┐ ░    ┌─┐ ░ »\n",
       "     Q: ┤ U(3.6283,4.7924,3.5502) ├─░────────────░───■──┤ H ├─░────┤M├─░─»\n",
       "        └─────────────────────────┘ ░ ┌───┐      ░ ┌─┴─┐└───┘ ░ ┌─┐└╥┘ ░ »\n",
       "     A: ────────────────────────────░─┤ H ├──■───░─┤ X ├──────░─┤M├─╫──░─»\n",
       "                                    ░ └───┘┌─┴─┐ ░ └───┘      ░ └╥┘ ║  ░ »\n",
       "     B: ────────────────────────────░──────┤ X ├─░────────────░──╫──╫──░─»\n",
       "                                    ░      └───┘ ░            ░  ║  ║  ░ »\n",
       "     a: ═════════════════════════════════════════════════════════╩══╬════»\n",
       "                                                                    ║    »\n",
       "     b: ════════════════════════════════════════════════════════════╩════»\n",
       "                                                                         »\n",
       "Result: ═════════════════════════════════════════════════════════════════»\n",
       "                                                                         »\n",
       "«                                 ░                                  \n",
       "«     Q: ─────────────────────────░──────────────────────────────────\n",
       "«                                 ░                                  \n",
       "«     A: ─────────────────────────░──────────────────────────────────\n",
       "«        ┌──────────┐┌──────────┐ ░ ┌────────────────────────────┐┌─┐\n",
       "«     B: ┤0         ├┤0         ├─░─┤ U(-3.6283,-3.5502,-4.7924) ├┤M├\n",
       "«        │  If_else ││          │ ░ └────────────────────────────┘└╥┘\n",
       "«     a: ╡0         ╞╡          ╞══════════════════════════════════╬═\n",
       "«        └──────────┘│          │                                  ║ \n",
       "«     b: ════════════╡0         ╞══════════════════════════════════╬═\n",
       "«                    └──────────┘                                  ║ \n",
       "«Result: ══════════════════════════════════════════════════════════╩═\n",
       "«                                                                    </pre>"
      ],
      "text/plain": [
       "        ┌─────────────────────────┐ ░            ░      ┌───┐ ░    ┌─┐ ░ »\n",
       "     Q: ┤ U(3.6283,4.7924,3.5502) ├─░────────────░───■──┤ H ├─░────┤M├─░─»\n",
       "        └─────────────────────────┘ ░ ┌───┐      ░ ┌─┴─┐└───┘ ░ ┌─┐└╥┘ ░ »\n",
       "     A: ────────────────────────────░─┤ H ├──■───░─┤ X ├──────░─┤M├─╫──░─»\n",
       "                                    ░ └───┘┌─┴─┐ ░ └───┘      ░ └╥┘ ║  ░ »\n",
       "     B: ────────────────────────────░──────┤ X ├─░────────────░──╫──╫──░─»\n",
       "                                    ░      └───┘ ░            ░  ║  ║  ░ »\n",
       "     a: ═════════════════════════════════════════════════════════╩══╬════»\n",
       "                                                                    ║    »\n",
       "     b: ════════════════════════════════════════════════════════════╩════»\n",
       "                                                                         »\n",
       "Result: ═════════════════════════════════════════════════════════════════»\n",
       "                                                                         »\n",
       "«                                 ░                                  \n",
       "«     Q: ─────────────────────────░──────────────────────────────────\n",
       "«                                 ░                                  \n",
       "«     A: ─────────────────────────░──────────────────────────────────\n",
       "«        ┌──────────┐┌──────────┐ ░ ┌────────────────────────────┐┌─┐\n",
       "«     B: ┤0         ├┤0         ├─░─┤ U(-3.6283,-3.5502,-4.7924) ├┤M├\n",
       "«        │  If_else ││          │ ░ └────────────────────────────┘└╥┘\n",
       "«     a: ╡0         ╞╡          ╞══════════════════════════════════╬═\n",
       "«        └──────────┘│          │                                  ║ \n",
       "«     b: ════════════╡0         ╞══════════════════════════════════╬═\n",
       "«                    └──────────┘                                  ║ \n",
       "«Result: ══════════════════════════════════════════════════════════╩═\n",
       "«                                                                    "
      ]
     },
     "execution_count": 14,
     "metadata": {},
     "output_type": "execute_result"
    }
   ],
   "source": [
    "#New circuit using the same bits and qubits used in teleportation protocol\n",
    "\n",
    "test = QuantumCircuit(qubit, ebit0, ebit1, a, b)\n",
    "\n",
    "#Starting with randomly selected gate on Q\n",
    "\n",
    "test.append(random_gate, qubit)\n",
    "test.barrier()\n",
    "\n",
    "#Append the teleportation from above code\n",
    "test = test.compose(protocol)\n",
    "test.barrier()\n",
    "\n",
    "#Apply inverse of random unit to B and measure\n",
    "test.append(random_gate.inverse(), ebit1)\n",
    "\n",
    "result = ClassicalRegister(1, \"Result\")\n",
    "test.add_register(result)\n",
    "test.measure(ebit1, result)\n",
    "\n",
    "test.draw()"
   ]
  },
  {
   "cell_type": "code",
   "execution_count": null,
   "metadata": {},
   "outputs": [],
   "source": []
  },
  {
   "cell_type": "code",
   "execution_count": null,
   "metadata": {},
   "outputs": [],
   "source": []
  }
 ],
 "metadata": {
  "kernelspec": {
   "display_name": "qiskit",
   "language": "python",
   "name": "python3"
  },
  "language_info": {
   "codemirror_mode": {
    "name": "ipython",
    "version": 3
   },
   "file_extension": ".py",
   "mimetype": "text/x-python",
   "name": "python",
   "nbconvert_exporter": "python",
   "pygments_lexer": "ipython3",
   "version": "3.11.4"
  },
  "orig_nbformat": 4
 },
 "nbformat": 4,
 "nbformat_minor": 2
}
