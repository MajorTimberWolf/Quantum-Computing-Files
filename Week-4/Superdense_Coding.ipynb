{
 "cells": [
  {
   "cell_type": "code",
   "execution_count": 17,
   "metadata": {},
   "outputs": [],
   "source": [
    "from qiskit import QuantumCircuit, QuantumRegister, ClassicalRegister\n",
    "from qiskit_aer.primitives import Sampler\n",
    "from qiskit_aer import AerSimulator\n",
    "from qiskit.visualization import plot_histogram"
   ]
  },
  {
   "cell_type": "code",
   "execution_count": 18,
   "metadata": {},
   "outputs": [],
   "source": [
    "c = \"3\"\n",
    "d = \"7\""
   ]
  },
  {
   "cell_type": "code",
   "execution_count": 21,
   "metadata": {},
   "outputs": [
    {
     "data": {
      "text/html": [
       "<pre style=\"word-wrap: normal;white-space: pre;background: #fff0;line-height: 1.1;font-family: &quot;Courier New&quot;,Courier,monospace\">        ┌───┐      ░       ░      ┌───┐ ░ ┌─┐            \n",
       "   q_0: ┤ H ├──■───░───────░───■──┤ H ├─░─┤M├────────────\n",
       "        └───┘┌─┴─┐ ░       ░ ┌─┴─┐└───┘ ░ └╥┘┌─┐         \n",
       "   q_1: ─────┤ X ├─░───────░─┤ X ├──────░──╫─┤M├─────────\n",
       "             └───┘ ░       ░ └───┘      ░  ║ └╥┘┌─┐      \n",
       "   q_2: ───────────░───────░────────────░──╫──╫─┤M├──────\n",
       "                   ░ ┌───┐ ░            ░  ║  ║ └╥┘┌─┐   \n",
       "   q_3: ───────────░─┤ X ├─░────────────░──╫──╫──╫─┤M├───\n",
       "                   ░ └───┘ ░            ░  ║  ║  ║ └╥┘┌─┐\n",
       "   q_4: ───────────░───────░────────────░──╫──╫──╫──╫─┤M├\n",
       "                   ░       ░            ░  ║  ║  ║  ║ └╥┘\n",
       "meas: 5/═══════════════════════════════════╩══╩══╩══╩══╩═\n",
       "                                           0  1  2  3  4 </pre>"
      ],
      "text/plain": [
       "        ┌───┐      ░       ░      ┌───┐ ░ ┌─┐            \n",
       "   q_0: ┤ H ├──■───░───────░───■──┤ H ├─░─┤M├────────────\n",
       "        └───┘┌─┴─┐ ░       ░ ┌─┴─┐└───┘ ░ └╥┘┌─┐         \n",
       "   q_1: ─────┤ X ├─░───────░─┤ X ├──────░──╫─┤M├─────────\n",
       "             └───┘ ░       ░ └───┘      ░  ║ └╥┘┌─┐      \n",
       "   q_2: ───────────░───────░────────────░──╫──╫─┤M├──────\n",
       "                   ░ ┌───┐ ░            ░  ║  ║ └╥┘┌─┐   \n",
       "   q_3: ───────────░─┤ X ├─░────────────░──╫──╫──╫─┤M├───\n",
       "                   ░ └───┘ ░            ░  ║  ║  ║ └╥┘┌─┐\n",
       "   q_4: ───────────░───────░────────────░──╫──╫──╫──╫─┤M├\n",
       "                   ░       ░            ░  ║  ║  ║  ║ └╥┘\n",
       "meas: 5/═══════════════════════════════════╩══╩══╩══╩══╩═\n",
       "                                           0  1  2  3  4 "
      ]
     },
     "metadata": {},
     "output_type": "display_data"
    }
   ],
   "source": [
    "protocol = QuantumCircuit(5)\n",
    "#Preparing the ebit used for superdense coding\n",
    "\n",
    "protocol.h(0)\n",
    "protocol.cx(0, 1)\n",
    "protocol.barrier()\n",
    "\n",
    "if d == \"0\":\n",
    "    protocol.z(1)\n",
    "if c == \"3\":\n",
    "    protocol.x(3)\n",
    "protocol.barrier()\n",
    "\n",
    "#Bob's Action\n",
    "protocol.cx(0, 1)\n",
    "protocol.h(0)\n",
    "protocol.measure_all()\n",
    "\n",
    "display(protocol.draw())"
   ]
  },
  {
   "cell_type": "code",
   "execution_count": 22,
   "metadata": {},
   "outputs": [
    {
     "name": "stdout",
     "output_type": "stream",
     "text": [
      "Meaasured 01000 with frequency 1.0\n"
     ]
    },
    {
     "data": {
      "image/png": "[encoded data removed]",
      "text/plain": [
       "<Figure size 700x500 with 1 Axes>"
      ]
     },
     "metadata": {},
     "output_type": "display_data"
    }
   ],
   "source": [
    "result = Sampler().run(protocol).result()\n",
    "statistics = result.quasi_dists[0].binary_probabilities()\n",
    "\n",
    "for outcome, frequency in statistics.items():\n",
    "    print(f\"Meaasured {outcome} with frequency {frequency}\")\n",
    "\n",
    "display(plot_histogram(statistics))"
   ]
  },
  {
   "cell_type": "code",
   "execution_count": null,
   "metadata": {},
   "outputs": [],
   "source": []
  }
 ],
 "metadata": {
  "kernelspec": {
   "display_name": "qiskit",
   "language": "python",
   "name": "python3"
  },
  "language_info": {
   "codemirror_mode": {
    "name": "ipython",
    "version": 3
   },
   "file_extension": ".py",
   "mimetype": "text/x-python",
   "name": "python",
   "nbconvert_exporter": "python",
   "pygments_lexer": "ipython3",
   "version": "3.11.7"
  }
 },
 "nbformat": 4,
 "nbformat_minor": 2
}
